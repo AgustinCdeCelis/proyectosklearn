{
 "cells": [
  {
   "cell_type": "code",
   "execution_count": 1,
   "metadata": {},
   "outputs": [],
   "source": [
    "import pandas as pd\n",
    "import numpy as np\n",
    "from sklearn.model_selection import RandomizedSearchCV\n",
    "from sklearn.ensemble import RandomForestRegressor"
   ]
  },
  {
   "cell_type": "code",
   "execution_count": 6,
   "metadata": {},
   "outputs": [],
   "source": [
    "if __name__ == \"__main__\":\n",
    "    dataset = pd.read_csv(\"./data/fel.csv\")\n",
    "\n",
    "\n",
    "\n",
    "dataset.shape\n",
    "\n",
    "X = dataset.drop(['country','rank','score'],axis=1)\n",
    "y= dataset['score']"
   ]
  },
  {
   "cell_type": "code",
   "execution_count": 5,
   "metadata": {},
   "outputs": [],
   "source": [
    "reg = RandomForestRegressor()"
   ]
  },
  {
   "cell_type": "code",
   "execution_count": 13,
   "metadata": {},
   "outputs": [
    {
     "name": "stdout",
     "output_type": "stream",
     "text": [
      "RandomForestRegressor(criterion='absolute_error', max_depth=8, n_estimators=4)\n",
      "{'n_estimators': 4, 'max_depth': 8, 'criterion': 'absolute_error'}\n",
      "[7.52950001]\n"
     ]
    }
   ],
   "source": [
    "parametros = {\n",
    "    'n_estimators': range(4,16),\n",
    "    'criterion' : ['squared_error', 'absolute_error'],\n",
    "    'max_depth' : range(2,11)\n",
    "}\n",
    "\n",
    "rand_est = RandomizedSearchCV(reg,parametros,n_iter=10,cv=3,scoring='neg_mean_absolute_error').fit(X,y)\n",
    "\n",
    "print(rand_est.best_estimator_)\n",
    "print(rand_est.best_params_)\n",
    "print(rand_est.predict(X.loc[[0]]))"
   ]
  }
 ],
 "metadata": {
  "kernelspec": {
   "display_name": "Python 3.10.4 64-bit",
   "language": "python",
   "name": "python3"
  },
  "language_info": {
   "codemirror_mode": {
    "name": "ipython",
    "version": 3
   },
   "file_extension": ".py",
   "mimetype": "text/x-python",
   "name": "python",
   "nbconvert_exporter": "python",
   "pygments_lexer": "ipython3",
   "version": "3.10.4"
  },
  "orig_nbformat": 4,
  "vscode": {
   "interpreter": {
    "hash": "f2ccb58c476f33ba3e3aee7ac07234ef6b8217ef24ad64d2a7d4fed1a57c1cd2"
   }
  }
 },
 "nbformat": 4,
 "nbformat_minor": 2
}
